{
 "cells": [
  {
   "cell_type": "code",
   "execution_count": 29,
   "id": "bba9a7c3",
   "metadata": {},
   "outputs": [],
   "source": [
    "import numpy as np\n",
    "import pandas as pd\n"
   ]
  },
  {
   "cell_type": "code",
   "execution_count": 26,
   "id": "7ae82ade",
   "metadata": {},
   "outputs": [],
   "source": [
    "tplfile = \"community.tpl\"\n",
    "outfile = \"test_community.txt\"\n",
    "\n",
    "n_species = 10"
   ]
  },
  {
   "cell_type": "code",
   "execution_count": 23,
   "id": "5155966f",
   "metadata": {},
   "outputs": [
    {
     "name": "stdout",
     "output_type": "stream",
     "text": [
      "\n",
      "species s0 initialize() {\n",
      "    initializeMutationRate(1e-7);\n",
      "    initializeMutationType(\"m0\", 0.5, \"f\", 0.0);\n",
      "    initializeGenomicElementType(\"g0\", m0, 1.0);\n",
      "    initializeGenomicElement(g0, 0, 1000);\n",
      "    initializeRecombinationRate(0);\n",
      "\n",
      "    initializeSpecies(tickModulo=1, tickPhase=1) ;\n",
      "}\n"
     ]
    }
   ],
   "source": [
    "speciesBlock = \"\"\"\n",
    "species s{idx} initialize() {{\n",
    "    initializeMutationRate(1e-7);\n",
    "    initializeMutationType(\"m{idx}\", 0.5, \"f\", 0.0);\n",
    "    initializeGenomicElementType(\"g{idx}\", m{idx}, 1.0);\n",
    "    initializeGenomicElement(g{idx}, 0, 1000);\n",
    "    initializeRecombinationRate(0);\n",
    "\n",
    "    initializeSpecies(tickModulo=1, tickPhase=1) ;\n",
    "}}\"\"\"\n",
    "\n",
    "print(speciesBlock.format(idx=0))"
   ]
  },
  {
   "cell_type": "code",
   "execution_count": 28,
   "id": "b1982318",
   "metadata": {},
   "outputs": [],
   "source": [
    "# New species blocks for n_species\n",
    "species_lines = \"\\n\".join([speciesBlock.format(idx=i) for i in range(n_species)])\n",
    "\n",
    "tpllines = open(tplfile, 'r').readlines()\n",
    "\n",
    "with open(outfile, 'w') as output:\n",
    "    for line in tpllines:\n",
    "        if \"{species_blocks}\" in line:\n",
    "            output.write(species_lines)\n",
    "        else:\n",
    "            output.write(line)\n"
   ]
  },
  {
   "cell_type": "code",
   "execution_count": 34,
   "id": "97c61827",
   "metadata": {},
   "outputs": [
    {
     "name": "stdout",
     "output_type": "stream",
     "text": [
      "ERROR (EidosValue_Object_vector::GetValueAtIndex): subscript 9 out of range.\r\n",
      "\r\n",
      "Error on script line 144, character 35:\r\n",
      "\r\n",
      "        community.allSubpopulations[idx].setSubpopulationSize(newsizes[idx]);\r\n",
      "                                   ^\r\n"
     ]
    }
   ],
   "source": [
    "!slim -l 0 $outfile"
   ]
  }
 ],
 "metadata": {
  "kernelspec": {
   "display_name": "Python 3 (ipykernel)",
   "language": "python",
   "name": "python3"
  },
  "language_info": {
   "codemirror_mode": {
    "name": "ipython",
    "version": 3
   },
   "file_extension": ".py",
   "mimetype": "text/x-python",
   "name": "python",
   "nbconvert_exporter": "python",
   "pygments_lexer": "ipython3",
   "version": "3.9.13"
  }
 },
 "nbformat": 4,
 "nbformat_minor": 5
}
