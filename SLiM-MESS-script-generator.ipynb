{
 "cells": [
  {
   "cell_type": "code",
   "execution_count": 29,
   "id": "bba9a7c3",
   "metadata": {},
   "outputs": [],
   "source": [
    "import numpy as np\n",
    "import pandas as pd\n"
   ]
  },
  {
   "cell_type": "code",
   "execution_count": 35,
   "id": "7ae82ade",
   "metadata": {},
   "outputs": [],
   "source": [
    "tplfile = \"community.tpl\"\n",
    "outfile = \"test_community.txt\"\n",
    "\n",
    "n_species = 11"
   ]
  },
  {
   "cell_type": "code",
   "execution_count": 36,
   "id": "5155966f",
   "metadata": {},
   "outputs": [
    {
     "name": "stdout",
     "output_type": "stream",
     "text": [
      "\n",
      "species s0 initialize() {\n",
      "    initializeMutationRate(1e-7);\n",
      "    initializeMutationType(\"m0\", 0.5, \"f\", 0.0);\n",
      "    initializeGenomicElementType(\"g0\", m0, 1.0);\n",
      "    initializeGenomicElement(g0, 0, 1000);\n",
      "    initializeRecombinationRate(0);\n",
      "\n",
      "    initializeSpecies(tickModulo=1, tickPhase=1) ;\n",
      "}\n"
     ]
    }
   ],
   "source": [
    "speciesBlock = \"\"\"\n",
    "species s{idx} initialize() {{\n",
    "    initializeMutationRate(1e-7);\n",
    "    initializeMutationType(\"m{idx}\", 0.5, \"f\", 0.0);\n",
    "    initializeGenomicElementType(\"g{idx}\", m{idx}, 1.0);\n",
    "    initializeGenomicElement(g{idx}, 0, 1000);\n",
    "    initializeRecombinationRate(0);\n",
    "\n",
    "    initializeSpecies(tickModulo=1, tickPhase=1) ;\n",
    "}}\"\"\"\n",
    "\n",
    "print(speciesBlock.format(idx=0))"
   ]
  },
  {
   "cell_type": "code",
   "execution_count": 49,
   "id": "b1982318",
   "metadata": {},
   "outputs": [
    {
     "ename": "AttributeError",
     "evalue": "'int' object has no attribute 'format'",
     "output_type": "error",
     "traceback": [
      "\u001b[0;31m---------------------------------------------------------------------------\u001b[0m",
      "\u001b[0;31mAttributeError\u001b[0m                            Traceback (most recent call last)",
      "Input \u001b[0;32mIn [49]\u001b[0m, in \u001b[0;36m<cell line: 6>\u001b[0;34m()\u001b[0m\n\u001b[1;32m      7\u001b[0m \u001b[38;5;28;01mfor\u001b[39;00m line \u001b[38;5;129;01min\u001b[39;00m tpllines:\n\u001b[1;32m      8\u001b[0m     \u001b[38;5;28;01mif\u001b[39;00m \u001b[38;5;124m\"\u001b[39m\u001b[38;5;132;01m{S}\u001b[39;00m\u001b[38;5;124m\"\u001b[39m \u001b[38;5;129;01min\u001b[39;00m line:\n\u001b[0;32m----> 9\u001b[0m         \u001b[43moutput\u001b[49m\u001b[38;5;241;43m.\u001b[39;49m\u001b[43mwrite\u001b[49m\u001b[43m(\u001b[49m\u001b[38;5;124;43m\"\u001b[39;49m\u001b[38;5;124;43mdefineConstant(\u001b[39;49m\u001b[38;5;130;43;01m\\\"\u001b[39;49;00m\u001b[38;5;124;43mS\u001b[39;49m\u001b[38;5;130;43;01m\\\"\u001b[39;49;00m\u001b[38;5;124;43m, \u001b[39;49m\u001b[38;5;132;43;01m{S}\u001b[39;49;00m\u001b[38;5;124;43m);\u001b[39;49m\u001b[38;5;124;43m\"\u001b[39;49m\u001b[43m)\u001b[49m\u001b[38;5;241;43m.\u001b[39;49m\u001b[43mformat\u001b[49m(S\u001b[38;5;241m=\u001b[39mn_species)\n\u001b[1;32m     10\u001b[0m     \u001b[38;5;28;01mif\u001b[39;00m \u001b[38;5;124m\"\u001b[39m\u001b[38;5;132;01m{species_blocks}\u001b[39;00m\u001b[38;5;124m\"\u001b[39m \u001b[38;5;129;01min\u001b[39;00m line:\n\u001b[1;32m     11\u001b[0m         output\u001b[38;5;241m.\u001b[39mwrite(species_lines)\n",
      "\u001b[0;31mAttributeError\u001b[0m: 'int' object has no attribute 'format'"
     ]
    }
   ],
   "source": [
    "# New species blocks for n_species\n",
    "species_lines = \"\\n\".join([speciesBlock.format(idx=i) for i in range(n_species)])\n",
    "\n",
    "tpllines = open(tplfile, 'r').readlines()\n",
    "\n",
    "with open(outfile, 'w') as output:\n",
    "    for line in tpllines:\n",
    "        if \"{S}\" in line:\n",
    "            output.write(\"defineConstant(\\\"S\\\", {S});\".format(S=n_species))\n",
    "        if \"{species_blocks}\" in line:\n",
    "            output.write(species_lines)\n",
    "        else:\n",
    "            output.write(line)\n"
   ]
  },
  {
   "cell_type": "code",
   "execution_count": 48,
   "id": "97c61827",
   "metadata": {},
   "outputs": [
    {
     "name": "stdout",
     "output_type": "stream",
     "text": [
      "ERROR (EidosValue_Int_vector::GetValueAtIndex): subscript 10 out of range.\r\n",
      "\r\n",
      "Error on script line 129, character 58:\r\n",
      "\r\n",
      "        community.allSpecies[idx].addSubpop(\"p\"+idx, sizes[idx]);\r\n",
      "                                                          ^\r\n"
     ]
    }
   ],
   "source": [
    "!slim -l 0 $outfile"
   ]
  }
 ],
 "metadata": {
  "kernelspec": {
   "display_name": "Python 3 (ipykernel)",
   "language": "python",
   "name": "python3"
  },
  "language_info": {
   "codemirror_mode": {
    "name": "ipython",
    "version": 3
   },
   "file_extension": ".py",
   "mimetype": "text/x-python",
   "name": "python",
   "nbconvert_exporter": "python",
   "pygments_lexer": "ipython3",
   "version": "3.9.13"
  }
 },
 "nbformat": 4,
 "nbformat_minor": 5
}
